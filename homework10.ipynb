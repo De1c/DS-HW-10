{
  "cells": [
    {
      "cell_type": "code",
      "execution_count": 1,
      "id": "bf62259f-a0dd-4257-a671-9e74962614fb",
      "metadata": {
        "id": "bf62259f-a0dd-4257-a671-9e74962614fb"
      },
      "outputs": [],
      "source": [
        "import numpy as np\n",
        "from tensorflow import keras"
      ]
    },
    {
      "cell_type": "code",
      "execution_count": 24,
      "id": "bcb23970-835f-41f9-a8e6-c756a26606e9",
      "metadata": {
        "id": "bcb23970-835f-41f9-a8e6-c756a26606e9"
      },
      "outputs": [],
      "source": [
        "from keras.datasets import fashion_mnist\n",
        "\n",
        "(train_images, train_labels), (test_images, test_labels) = fashion_mnist.load_data()"
      ]
    },
    {
      "cell_type": "code",
      "execution_count": 25,
      "id": "98a337ae-749d-4022-b317-137477fad2f9",
      "metadata": {
        "id": "98a337ae-749d-4022-b317-137477fad2f9"
      },
      "outputs": [],
      "source": [
        "train_images = train_images / 255.0\n",
        "\n",
        "test_images = test_images / 255.0"
      ]
    },
    {
      "cell_type": "markdown",
      "id": "c4ad4983-f22d-4929-83b5-6ad7f4c68cf0",
      "metadata": {
        "id": "c4ad4983-f22d-4929-83b5-6ad7f4c68cf0"
      },
      "source": [
        "## This is the Dense NN model that showed the best results in the previous homework"
      ]
    },
    {
      "cell_type": "code",
      "execution_count": null,
      "id": "e8ce69df-e0f2-4f27-a929-935e94372238",
      "metadata": {
        "id": "e8ce69df-e0f2-4f27-a929-935e94372238"
      },
      "outputs": [],
      "source": [
        "dense_model = keras.Sequential([\n",
        "    keras.layers.Flatten(input_shape=(28, 28)),\n",
        "    keras.layers.Dense(256, activation='relu'),\n",
        "    keras.layers.Dense(256, activation='relu'),\n",
        "    keras.layers.Dense(10)\n",
        "])"
      ]
    },
    {
      "cell_type": "code",
      "execution_count": null,
      "id": "429737d2-6d09-4e09-bfb3-87af7c06484e",
      "metadata": {
        "id": "429737d2-6d09-4e09-bfb3-87af7c06484e"
      },
      "outputs": [],
      "source": [
        "dense_model.compile(optimizer='adam',\n",
        "              loss=keras.losses.SparseCategoricalCrossentropy(from_logits=True),\n",
        "              metrics=['accuracy'])"
      ]
    },
    {
      "cell_type": "code",
      "execution_count": null,
      "id": "421a31df-7e24-4c2c-b16b-f58e5cd252da",
      "metadata": {
        "colab": {
          "base_uri": "https://localhost:8080/"
        },
        "id": "421a31df-7e24-4c2c-b16b-f58e5cd252da",
        "outputId": "23bf87c8-002d-4bbb-a571-253a8d384b60"
      },
      "outputs": [
        {
          "output_type": "stream",
          "name": "stdout",
          "text": [
            "Epoch 1/20\n",
            "235/235 [==============================] - 2s 5ms/step - loss: 0.5496 - accuracy: 0.8081 - val_loss: 0.4306 - val_accuracy: 0.8448\n",
            "Epoch 2/20\n",
            "235/235 [==============================] - 1s 4ms/step - loss: 0.3744 - accuracy: 0.8650 - val_loss: 0.3854 - val_accuracy: 0.8611\n",
            "Epoch 3/20\n",
            "235/235 [==============================] - 1s 4ms/step - loss: 0.3322 - accuracy: 0.8794 - val_loss: 0.3557 - val_accuracy: 0.8718\n",
            "Epoch 4/20\n",
            "235/235 [==============================] - 1s 4ms/step - loss: 0.3059 - accuracy: 0.8874 - val_loss: 0.3475 - val_accuracy: 0.8752\n",
            "Epoch 5/20\n",
            "235/235 [==============================] - 1s 4ms/step - loss: 0.2899 - accuracy: 0.8929 - val_loss: 0.3515 - val_accuracy: 0.8741\n",
            "Epoch 6/20\n",
            "235/235 [==============================] - 1s 5ms/step - loss: 0.2733 - accuracy: 0.8984 - val_loss: 0.3533 - val_accuracy: 0.8667\n",
            "Epoch 7/20\n",
            "235/235 [==============================] - 1s 5ms/step - loss: 0.2566 - accuracy: 0.9047 - val_loss: 0.3231 - val_accuracy: 0.8846\n",
            "Epoch 8/20\n",
            "235/235 [==============================] - 1s 4ms/step - loss: 0.2505 - accuracy: 0.9065 - val_loss: 0.3240 - val_accuracy: 0.8834\n",
            "Epoch 9/20\n",
            "235/235 [==============================] - 1s 4ms/step - loss: 0.2358 - accuracy: 0.9125 - val_loss: 0.3348 - val_accuracy: 0.8814\n",
            "Epoch 10/20\n",
            "235/235 [==============================] - 1s 4ms/step - loss: 0.2271 - accuracy: 0.9145 - val_loss: 0.3270 - val_accuracy: 0.8875\n",
            "Epoch 11/20\n",
            "235/235 [==============================] - 1s 4ms/step - loss: 0.2168 - accuracy: 0.9179 - val_loss: 0.3082 - val_accuracy: 0.8914\n",
            "Epoch 12/20\n",
            "235/235 [==============================] - 1s 4ms/step - loss: 0.2095 - accuracy: 0.9217 - val_loss: 0.3331 - val_accuracy: 0.8840\n",
            "Epoch 13/20\n",
            "235/235 [==============================] - 1s 4ms/step - loss: 0.2046 - accuracy: 0.9234 - val_loss: 0.3465 - val_accuracy: 0.8851\n",
            "Epoch 14/20\n",
            "235/235 [==============================] - 1s 4ms/step - loss: 0.1924 - accuracy: 0.9284 - val_loss: 0.3280 - val_accuracy: 0.8840\n",
            "Epoch 15/20\n",
            "235/235 [==============================] - 1s 4ms/step - loss: 0.1859 - accuracy: 0.9304 - val_loss: 0.3391 - val_accuracy: 0.8896\n",
            "Epoch 16/20\n",
            "235/235 [==============================] - 1s 4ms/step - loss: 0.1815 - accuracy: 0.9318 - val_loss: 0.3236 - val_accuracy: 0.8865\n",
            "Epoch 17/20\n",
            "235/235 [==============================] - 1s 4ms/step - loss: 0.1751 - accuracy: 0.9344 - val_loss: 0.3649 - val_accuracy: 0.8879\n",
            "Epoch 18/20\n",
            "235/235 [==============================] - 1s 4ms/step - loss: 0.1697 - accuracy: 0.9363 - val_loss: 0.3191 - val_accuracy: 0.8967\n",
            "Epoch 19/20\n",
            "235/235 [==============================] - 1s 4ms/step - loss: 0.1646 - accuracy: 0.9380 - val_loss: 0.3475 - val_accuracy: 0.8875\n",
            "Epoch 20/20\n",
            "235/235 [==============================] - 1s 5ms/step - loss: 0.1581 - accuracy: 0.9408 - val_loss: 0.3407 - val_accuracy: 0.8972\n"
          ]
        },
        {
          "output_type": "execute_result",
          "data": {
            "text/plain": [
              "<keras.src.callbacks.History at 0x7c737d5f8130>"
            ]
          },
          "metadata": {},
          "execution_count": 26
        }
      ],
      "source": [
        "dense_model.fit(train_images, train_labels, batch_size=256, epochs=20, validation_data=(test_images, test_labels))"
      ]
    },
    {
      "cell_type": "markdown",
      "source": [
        "# Part 1"
      ],
      "metadata": {
        "id": "QfCRDt5myIqd"
      },
      "id": "QfCRDt5myIqd"
    },
    {
      "cell_type": "code",
      "execution_count": 3,
      "id": "073f92fb-f6d8-463e-a90b-d8ed47677366",
      "metadata": {
        "id": "073f92fb-f6d8-463e-a90b-d8ed47677366"
      },
      "outputs": [],
      "source": [
        "# Let's experiment with the number of layers\n",
        "from keras import layers\n",
        "from keras import models\n",
        "\n",
        "conv_model_base = models.Sequential([\n",
        "    layers.Conv2D(\n",
        "        64, (5, 5),\n",
        "        padding=\"same\",\n",
        "        activation=\"relu\",\n",
        "        input_shape=(28, 28, 1)\n",
        "    ),\n",
        "    layers.MaxPooling2D((2, 2)),\n",
        "\n",
        "    layers.Flatten(),\n",
        "    layers.Dense(32, activation=\"relu\"),\n",
        "\n",
        "    layers.Dense(10, activation=\"softmax\")\n",
        "])\n",
        "\n",
        "conv_model_more = models.Sequential([\n",
        "    layers.Conv2D(\n",
        "        64, (5, 5), activation=\"relu\",\n",
        "        input_shape=(28, 28, 1)\n",
        "    ),\n",
        "    layers.MaxPooling2D((2, 2)),\n",
        "\n",
        "    layers.Conv2D(128, (5, 5), activation=\"relu\"),\n",
        "    layers.MaxPooling2D((2, 2)),\n",
        "\n",
        "    layers.Flatten(),\n",
        "    layers.Dense(32, activation=\"relu\"),\n",
        "\n",
        "    layers.Dense(10, activation=\"softmax\")\n",
        "])"
      ]
    },
    {
      "cell_type": "code",
      "execution_count": null,
      "id": "88e25b0a-4de6-406a-9d44-28b6f2d45014",
      "metadata": {
        "id": "88e25b0a-4de6-406a-9d44-28b6f2d45014"
      },
      "outputs": [],
      "source": [
        "conv_model_base.compile(loss='sparse_categorical_crossentropy',\n",
        "            optimizer=\"adam\",\n",
        "            metrics=[\"accuracy\"])\n",
        "\n",
        "conv_model_more.compile(loss=keras.losses.SparseCategoricalCrossentropy(from_logits=True),\n",
        "            optimizer=\"adam\",\n",
        "            metrics=[\"accuracy\"])\n"
      ]
    },
    {
      "cell_type": "code",
      "execution_count": null,
      "id": "b46ab1f7-bc00-4148-a1c7-76644557c603",
      "metadata": {
        "colab": {
          "base_uri": "https://localhost:8080/"
        },
        "id": "b46ab1f7-bc00-4148-a1c7-76644557c603",
        "outputId": "fd1a007a-1fe9-47f1-cbc7-a56ce9115d65"
      },
      "outputs": [
        {
          "output_type": "stream",
          "name": "stdout",
          "text": [
            "Epoch 1/8\n",
            "469/469 [==============================] - 3s 5ms/step - loss: 0.4793 - accuracy: 0.8337 - val_loss: 0.3566 - val_accuracy: 0.8756\n",
            "Epoch 2/8\n",
            "469/469 [==============================] - 2s 5ms/step - loss: 0.3128 - accuracy: 0.8905 - val_loss: 0.3754 - val_accuracy: 0.8666\n",
            "Epoch 3/8\n",
            "469/469 [==============================] - 2s 4ms/step - loss: 0.2717 - accuracy: 0.9036 - val_loss: 0.2850 - val_accuracy: 0.8987\n",
            "Epoch 4/8\n",
            "469/469 [==============================] - 3s 6ms/step - loss: 0.2412 - accuracy: 0.9136 - val_loss: 0.2785 - val_accuracy: 0.9009\n",
            "Epoch 5/8\n",
            "469/469 [==============================] - 2s 5ms/step - loss: 0.2227 - accuracy: 0.9197 - val_loss: 0.2810 - val_accuracy: 0.8998\n",
            "Epoch 6/8\n",
            "469/469 [==============================] - 2s 4ms/step - loss: 0.2023 - accuracy: 0.9274 - val_loss: 0.2787 - val_accuracy: 0.9011\n",
            "Epoch 7/8\n",
            "469/469 [==============================] - 2s 5ms/step - loss: 0.1878 - accuracy: 0.9324 - val_loss: 0.2541 - val_accuracy: 0.9094\n",
            "Epoch 8/8\n",
            "469/469 [==============================] - 2s 5ms/step - loss: 0.1732 - accuracy: 0.9378 - val_loss: 0.2574 - val_accuracy: 0.9121\n",
            "Epoch 1/8\n",
            "469/469 [==============================] - 5s 8ms/step - loss: 0.5665 - accuracy: 0.8007 - val_loss: 0.4429 - val_accuracy: 0.8373\n",
            "Epoch 2/8\n",
            "469/469 [==============================] - 3s 6ms/step - loss: 0.3500 - accuracy: 0.8761 - val_loss: 0.3436 - val_accuracy: 0.8813\n",
            "Epoch 3/8\n",
            "469/469 [==============================] - 3s 6ms/step - loss: 0.2986 - accuracy: 0.8941 - val_loss: 0.3221 - val_accuracy: 0.8873\n",
            "Epoch 4/8\n",
            "469/469 [==============================] - 3s 6ms/step - loss: 0.2690 - accuracy: 0.9037 - val_loss: 0.3102 - val_accuracy: 0.8900\n",
            "Epoch 5/8\n",
            "469/469 [==============================] - 3s 7ms/step - loss: 0.2468 - accuracy: 0.9100 - val_loss: 0.2807 - val_accuracy: 0.9025\n",
            "Epoch 6/8\n",
            "469/469 [==============================] - 3s 6ms/step - loss: 0.2248 - accuracy: 0.9182 - val_loss: 0.2701 - val_accuracy: 0.9072\n",
            "Epoch 7/8\n",
            "469/469 [==============================] - 3s 6ms/step - loss: 0.2071 - accuracy: 0.9248 - val_loss: 0.2754 - val_accuracy: 0.9038\n",
            "Epoch 8/8\n",
            "469/469 [==============================] - 3s 6ms/step - loss: 0.1959 - accuracy: 0.9293 - val_loss: 0.2688 - val_accuracy: 0.9076\n"
          ]
        },
        {
          "output_type": "execute_result",
          "data": {
            "text/plain": [
              "<keras.src.callbacks.History at 0x7c737f44db10>"
            ]
          },
          "metadata": {},
          "execution_count": 12
        }
      ],
      "source": [
        "conv_model_base.fit(train_images, train_labels, epochs=8, batch_size=128, validation_data=(test_images, test_labels))\n",
        "conv_model_more.fit(train_images, train_labels, epochs=8, batch_size=128, validation_data=(test_images, test_labels))"
      ]
    },
    {
      "cell_type": "markdown",
      "source": [
        "### As we see the model with less layers shows better results"
      ],
      "metadata": {
        "id": "e0tprXoDgmRX"
      },
      "id": "e0tprXoDgmRX"
    },
    {
      "cell_type": "code",
      "source": [
        "#Let's try and add Dropout to our model\n",
        "conv_model_ndrop = models.Sequential([\n",
        "    layers.Conv2D(\n",
        "        64, (5, 5),\n",
        "        padding=\"same\",\n",
        "        activation=\"relu\",\n",
        "        input_shape=(28, 28, 1)\n",
        "    ),\n",
        "    layers.MaxPooling2D((2, 2)),\n",
        "\n",
        "    layers.Flatten(),\n",
        "    layers.Dense(32, activation=\"relu\"),\n",
        "\n",
        "    layers.Dense(10, activation=\"softmax\")\n",
        "])\n",
        "\n",
        "conv_model_dropout = models.Sequential([\n",
        "    layers.Conv2D(\n",
        "        64, (5, 5), activation=\"relu\",\n",
        "        input_shape=(28, 28, 1)\n",
        "    ),\n",
        "    layers.MaxPooling2D((2, 2)),\n",
        "\n",
        "    layers.Dropout(0.3),\n",
        "\n",
        "    layers.Flatten(),\n",
        "    layers.Dense(32, activation=\"relu\"),\n",
        "\n",
        "    layers.Dense(10, activation=\"softmax\")\n",
        "])"
      ],
      "metadata": {
        "id": "oUw-ZIufguKl"
      },
      "id": "oUw-ZIufguKl",
      "execution_count": null,
      "outputs": []
    },
    {
      "cell_type": "code",
      "source": [
        "conv_model_ndrop.compile(loss='sparse_categorical_crossentropy',\n",
        "            optimizer=\"adam\",\n",
        "            metrics=[\"accuracy\"])\n",
        "\n",
        "conv_model_dropout.compile(loss=keras.losses.SparseCategoricalCrossentropy(from_logits=True),\n",
        "            optimizer=\"adam\",\n",
        "            metrics=[\"accuracy\"])"
      ],
      "metadata": {
        "id": "WIR3nup4hOPE"
      },
      "id": "WIR3nup4hOPE",
      "execution_count": null,
      "outputs": []
    },
    {
      "cell_type": "code",
      "source": [
        "conv_model_ndrop.fit(train_images, train_labels, epochs=8, batch_size=128, validation_data=(test_images, test_labels))\n",
        "conv_model_dropout.fit(train_images, train_labels, epochs=8, batch_size=128, validation_data=(test_images, test_labels))"
      ],
      "metadata": {
        "colab": {
          "base_uri": "https://localhost:8080/"
        },
        "id": "8lvNNgxvhFzi",
        "outputId": "f867cd76-7013-48c2-8224-5fd9916df99f"
      },
      "id": "8lvNNgxvhFzi",
      "execution_count": null,
      "outputs": [
        {
          "output_type": "stream",
          "name": "stdout",
          "text": [
            "Epoch 1/8\n",
            "469/469 [==============================] - 3s 5ms/step - loss: 0.4945 - accuracy: 0.8256 - val_loss: 0.3724 - val_accuracy: 0.8695\n",
            "Epoch 2/8\n",
            "469/469 [==============================] - 2s 5ms/step - loss: 0.3235 - accuracy: 0.8866 - val_loss: 0.3334 - val_accuracy: 0.8831\n",
            "Epoch 3/8\n",
            "469/469 [==============================] - 2s 5ms/step - loss: 0.2780 - accuracy: 0.9012 - val_loss: 0.2924 - val_accuracy: 0.8992\n",
            "Epoch 4/8\n",
            "469/469 [==============================] - 3s 6ms/step - loss: 0.2486 - accuracy: 0.9119 - val_loss: 0.2867 - val_accuracy: 0.8980\n",
            "Epoch 5/8\n",
            "469/469 [==============================] - 3s 5ms/step - loss: 0.2299 - accuracy: 0.9172 - val_loss: 0.2641 - val_accuracy: 0.9087\n",
            "Epoch 6/8\n",
            "469/469 [==============================] - 2s 5ms/step - loss: 0.2107 - accuracy: 0.9247 - val_loss: 0.2617 - val_accuracy: 0.9074\n",
            "Epoch 7/8\n",
            "469/469 [==============================] - 2s 5ms/step - loss: 0.1955 - accuracy: 0.9291 - val_loss: 0.2521 - val_accuracy: 0.9129\n",
            "Epoch 8/8\n",
            "469/469 [==============================] - 2s 5ms/step - loss: 0.1816 - accuracy: 0.9349 - val_loss: 0.2594 - val_accuracy: 0.9068\n",
            "Epoch 1/8\n"
          ]
        },
        {
          "output_type": "stream",
          "name": "stderr",
          "text": [
            "/usr/local/lib/python3.10/dist-packages/keras/src/backend.py:5727: UserWarning: \"`sparse_categorical_crossentropy` received `from_logits=True`, but the `output` argument was produced by a Softmax activation and thus does not represent logits. Was this intended?\n",
            "  output, from_logits = _get_logits(\n"
          ]
        },
        {
          "output_type": "stream",
          "name": "stdout",
          "text": [
            "469/469 [==============================] - 6s 5ms/step - loss: 0.5140 - accuracy: 0.8217 - val_loss: 0.3991 - val_accuracy: 0.8599\n",
            "Epoch 2/8\n",
            "469/469 [==============================] - 2s 5ms/step - loss: 0.3476 - accuracy: 0.8776 - val_loss: 0.3385 - val_accuracy: 0.8797\n",
            "Epoch 3/8\n",
            "469/469 [==============================] - 2s 5ms/step - loss: 0.3084 - accuracy: 0.8908 - val_loss: 0.3198 - val_accuracy: 0.8851\n",
            "Epoch 4/8\n",
            "469/469 [==============================] - 2s 5ms/step - loss: 0.2834 - accuracy: 0.8989 - val_loss: 0.2930 - val_accuracy: 0.8957\n",
            "Epoch 5/8\n",
            "469/469 [==============================] - 3s 6ms/step - loss: 0.2655 - accuracy: 0.9027 - val_loss: 0.2912 - val_accuracy: 0.8957\n",
            "Epoch 6/8\n",
            "469/469 [==============================] - 3s 5ms/step - loss: 0.2507 - accuracy: 0.9087 - val_loss: 0.2698 - val_accuracy: 0.9055\n",
            "Epoch 7/8\n",
            "469/469 [==============================] - 2s 5ms/step - loss: 0.2400 - accuracy: 0.9120 - val_loss: 0.2738 - val_accuracy: 0.8999\n",
            "Epoch 8/8\n",
            "469/469 [==============================] - 3s 5ms/step - loss: 0.2270 - accuracy: 0.9165 - val_loss: 0.2589 - val_accuracy: 0.9097\n"
          ]
        },
        {
          "output_type": "execute_result",
          "data": {
            "text/plain": [
              "<keras.src.callbacks.History at 0x7c7419fb35b0>"
            ]
          },
          "metadata": {},
          "execution_count": 18
        }
      ]
    },
    {
      "cell_type": "markdown",
      "source": [
        "### Dropout is not helping us"
      ],
      "metadata": {
        "id": "ru_B7VWVhlaT"
      },
      "id": "ru_B7VWVhlaT"
    },
    {
      "cell_type": "code",
      "source": [
        "conv_model = models.Sequential([\n",
        "    layers.Conv2D(\n",
        "        64, (5, 5),\n",
        "        padding=\"same\",\n",
        "        activation=\"relu\",\n",
        "        input_shape=(28, 28, 1)\n",
        "    ),\n",
        "    layers.MaxPooling2D((2, 2)),\n",
        "\n",
        "    layers.Flatten(),\n",
        "    layers.Dense(32, activation=\"relu\"),\n",
        "\n",
        "    layers.Dense(10, activation=\"softmax\")\n",
        "])"
      ],
      "metadata": {
        "id": "z8yf1oIMiC5G"
      },
      "id": "z8yf1oIMiC5G",
      "execution_count": 26,
      "outputs": []
    },
    {
      "cell_type": "code",
      "source": [
        "conv_model.compile(loss='sparse_categorical_crossentropy',\n",
        "            optimizer=\"adam\",\n",
        "            metrics=[\"accuracy\"])"
      ],
      "metadata": {
        "id": "tf0LCtU4iJ8C"
      },
      "id": "tf0LCtU4iJ8C",
      "execution_count": 27,
      "outputs": []
    },
    {
      "cell_type": "code",
      "source": [
        "#Let's experiment with batch size and number of epochs\n",
        "conv_model.fit(train_images, train_labels, epochs=15, batch_size=256, validation_data=(test_images, test_labels))"
      ],
      "metadata": {
        "colab": {
          "base_uri": "https://localhost:8080/"
        },
        "id": "tueM_Ah8iLhk",
        "outputId": "a13a4ed5-85a1-48dc-f6d5-c9a42ba9cece"
      },
      "id": "tueM_Ah8iLhk",
      "execution_count": 28,
      "outputs": [
        {
          "output_type": "stream",
          "name": "stdout",
          "text": [
            "Epoch 1/15\n",
            "235/235 [==============================] - 3s 8ms/step - loss: 0.5432 - accuracy: 0.8125 - val_loss: 0.4090 - val_accuracy: 0.8564\n",
            "Epoch 2/15\n",
            "235/235 [==============================] - 2s 8ms/step - loss: 0.3528 - accuracy: 0.8770 - val_loss: 0.3530 - val_accuracy: 0.8756\n",
            "Epoch 3/15\n",
            "235/235 [==============================] - 2s 8ms/step - loss: 0.3078 - accuracy: 0.8923 - val_loss: 0.3229 - val_accuracy: 0.8850\n",
            "Epoch 4/15\n",
            "235/235 [==============================] - 2s 7ms/step - loss: 0.2844 - accuracy: 0.8996 - val_loss: 0.3143 - val_accuracy: 0.8893\n",
            "Epoch 5/15\n",
            "235/235 [==============================] - 2s 7ms/step - loss: 0.2616 - accuracy: 0.9071 - val_loss: 0.2967 - val_accuracy: 0.8963\n",
            "Epoch 6/15\n",
            "235/235 [==============================] - 2s 7ms/step - loss: 0.2431 - accuracy: 0.9137 - val_loss: 0.2770 - val_accuracy: 0.9015\n",
            "Epoch 7/15\n",
            "235/235 [==============================] - 2s 7ms/step - loss: 0.2272 - accuracy: 0.9197 - val_loss: 0.2895 - val_accuracy: 0.8978\n",
            "Epoch 8/15\n",
            "235/235 [==============================] - 2s 7ms/step - loss: 0.2200 - accuracy: 0.9211 - val_loss: 0.2816 - val_accuracy: 0.9009\n",
            "Epoch 9/15\n",
            "235/235 [==============================] - 2s 7ms/step - loss: 0.2041 - accuracy: 0.9274 - val_loss: 0.2652 - val_accuracy: 0.9090\n",
            "Epoch 10/15\n",
            "235/235 [==============================] - 2s 7ms/step - loss: 0.1956 - accuracy: 0.9305 - val_loss: 0.2578 - val_accuracy: 0.9114\n",
            "Epoch 11/15\n",
            "235/235 [==============================] - 2s 9ms/step - loss: 0.1858 - accuracy: 0.9340 - val_loss: 0.2667 - val_accuracy: 0.9077\n",
            "Epoch 12/15\n",
            "235/235 [==============================] - 2s 7ms/step - loss: 0.1750 - accuracy: 0.9384 - val_loss: 0.2664 - val_accuracy: 0.9100\n",
            "Epoch 13/15\n",
            "235/235 [==============================] - 2s 7ms/step - loss: 0.1673 - accuracy: 0.9408 - val_loss: 0.2544 - val_accuracy: 0.9119\n",
            "Epoch 14/15\n",
            "235/235 [==============================] - 2s 7ms/step - loss: 0.1611 - accuracy: 0.9424 - val_loss: 0.2508 - val_accuracy: 0.9152\n",
            "Epoch 15/15\n",
            "235/235 [==============================] - 2s 7ms/step - loss: 0.1513 - accuracy: 0.9462 - val_loss: 0.2563 - val_accuracy: 0.9124\n"
          ]
        },
        {
          "output_type": "execute_result",
          "data": {
            "text/plain": [
              "<keras.src.callbacks.History at 0x7def31fad960>"
            ]
          },
          "metadata": {},
          "execution_count": 28
        }
      ]
    },
    {
      "cell_type": "markdown",
      "source": [
        "### As we see 15 epochs is enough for out model"
      ],
      "metadata": {
        "id": "k4Dbh7xLi6Dr"
      },
      "id": "k4Dbh7xLi6Dr"
    },
    {
      "cell_type": "code",
      "source": [
        "#Now let's compare our model to the Dense model from before\n",
        "print(f\"Dense model results: {dense_model.evaluate(test_images, test_labels)}\")\n",
        "print(f\"Convolutional model results: {conv_model.evaluate(test_images, test_labels)}\")"
      ],
      "metadata": {
        "colab": {
          "base_uri": "https://localhost:8080/"
        },
        "id": "4Y84_6dHjC_T",
        "outputId": "017ac03c-696e-4d1b-8870-90a12220633b"
      },
      "id": "4Y84_6dHjC_T",
      "execution_count": null,
      "outputs": [
        {
          "output_type": "stream",
          "name": "stdout",
          "text": [
            "313/313 [==============================] - 1s 3ms/step - loss: 0.3407 - accuracy: 0.8972\n",
            "Dense model results: [0.34069520235061646, 0.8971999883651733]\n",
            "313/313 [==============================] - 1s 2ms/step - loss: 0.2703 - accuracy: 0.9138\n",
            "Convolutional model results: [0.270328164100647, 0.9138000011444092]\n"
          ]
        }
      ]
    },
    {
      "cell_type": "markdown",
      "source": [
        "### The Convolutional model in our situation show better accuracy and loss than Dense model"
      ],
      "metadata": {
        "id": "whmSJS_qj5Gd"
      },
      "id": "whmSJS_qj5Gd"
    },
    {
      "cell_type": "markdown",
      "source": [
        "# Part 2"
      ],
      "metadata": {
        "id": "Oe_s0U5FyXFG"
      },
      "id": "Oe_s0U5FyXFG"
    },
    {
      "cell_type": "code",
      "source": [
        "(train_images, train_labels), (test_images, test_labels) = fashion_mnist.load_data()"
      ],
      "metadata": {
        "id": "OFLQTL0g5EXd"
      },
      "id": "OFLQTL0g5EXd",
      "execution_count": 30,
      "outputs": []
    },
    {
      "cell_type": "code",
      "source": [
        "import tensorflow as tf\n",
        "\n",
        "train_images = tf.image.resize(np.array(train_images)[..., tf.newaxis], (32, 32))\n",
        "train_images = np.repeat(train_images, 3, axis=-1)\n",
        "test_images = tf.image.resize(np.array(test_images)[..., tf.newaxis], (32, 32))\n",
        "test_images = np.repeat(test_images, 3, axis=-1)\n",
        "train_images = np.array(train_images) / 255.0\n",
        "test_labels = np.array(test_labels) / 255.0"
      ],
      "metadata": {
        "id": "gGQ5hAVQ5hn6"
      },
      "id": "gGQ5hAVQ5hn6",
      "execution_count": 31,
      "outputs": []
    },
    {
      "cell_type": "code",
      "source": [
        "train_images.shape, test_images.shape"
      ],
      "metadata": {
        "colab": {
          "base_uri": "https://localhost:8080/"
        },
        "id": "iw4wsrRB6p1e",
        "outputId": "fd0de470-6bcc-459b-af75-9a3914d66b47"
      },
      "id": "iw4wsrRB6p1e",
      "execution_count": 6,
      "outputs": [
        {
          "output_type": "execute_result",
          "data": {
            "text/plain": [
              "((60000, 32, 32, 3), (10000, 32, 32, 3))"
            ]
          },
          "metadata": {},
          "execution_count": 6
        }
      ]
    },
    {
      "cell_type": "code",
      "source": [
        "from keras.utils import to_categorical\n",
        "\n",
        "num_classes = 10\n",
        "train_labels = to_categorical(train_labels, num_classes)\n",
        "test_labels = to_categorical(test_labels, num_classes)"
      ],
      "metadata": {
        "id": "PKjlHCZb6dJ8"
      },
      "id": "PKjlHCZb6dJ8",
      "execution_count": 32,
      "outputs": []
    },
    {
      "cell_type": "code",
      "source": [
        "train_labels.shape, test_labels.shape"
      ],
      "metadata": {
        "colab": {
          "base_uri": "https://localhost:8080/"
        },
        "id": "pU4FxL_-9AGY",
        "outputId": "f6b6e6ae-f488-46f4-a831-8e7043dc2ea7"
      },
      "id": "pU4FxL_-9AGY",
      "execution_count": 8,
      "outputs": [
        {
          "output_type": "execute_result",
          "data": {
            "text/plain": [
              "((60000, 10), (10000, 10))"
            ]
          },
          "metadata": {},
          "execution_count": 8
        }
      ]
    },
    {
      "cell_type": "code",
      "source": [
        "from keras.applications.vgg16 import VGG16\n",
        "\n",
        "conv_base = VGG16(weights=\"imagenet\", include_top=False, input_shape=(32, 32, 3))\n",
        "conv_base.trainable = False"
      ],
      "metadata": {
        "id": "Tm939eV3kAbv"
      },
      "id": "Tm939eV3kAbv",
      "execution_count": 13,
      "outputs": []
    },
    {
      "cell_type": "code",
      "source": [
        "model_wbase = models.Sequential([\n",
        "   conv_base,\n",
        "   layers.Flatten(),\n",
        "   layers.Dense(64, activation=\"relu\"),\n",
        "   layers.Dense(10, activation=\"softmax\"),\n",
        "])"
      ],
      "metadata": {
        "id": "cuR4_zsV60li"
      },
      "id": "cuR4_zsV60li",
      "execution_count": 15,
      "outputs": []
    },
    {
      "cell_type": "code",
      "source": [
        "model_wbase.compile(loss='categorical_crossentropy',\n",
        "            optimizer=\"adam\",\n",
        "            metrics=[\"accuracy\"])"
      ],
      "metadata": {
        "id": "hEEMSLPq7Nrm"
      },
      "id": "hEEMSLPq7Nrm",
      "execution_count": 16,
      "outputs": []
    },
    {
      "cell_type": "code",
      "source": [
        "model_wbase.fit(train_images, train_labels, epochs=8, verbose=1, batch_size=256, validation_split=0.2)"
      ],
      "metadata": {
        "colab": {
          "base_uri": "https://localhost:8080/"
        },
        "id": "hvHQ5oEF7WgH",
        "outputId": "dac15ad1-7465-43c0-c20a-94a0e313a5b0"
      },
      "id": "hvHQ5oEF7WgH",
      "execution_count": 17,
      "outputs": [
        {
          "output_type": "stream",
          "name": "stdout",
          "text": [
            "Epoch 1/8\n",
            "188/188 [==============================] - 11s 52ms/step - loss: 0.8954 - accuracy: 0.7220 - val_loss: 0.5871 - val_accuracy: 0.7955\n",
            "Epoch 2/8\n",
            "188/188 [==============================] - 6s 32ms/step - loss: 0.5212 - accuracy: 0.8170 - val_loss: 0.5018 - val_accuracy: 0.8207\n",
            "Epoch 3/8\n",
            "188/188 [==============================] - 6s 34ms/step - loss: 0.4619 - accuracy: 0.8350 - val_loss: 0.4634 - val_accuracy: 0.8319\n",
            "Epoch 4/8\n",
            "188/188 [==============================] - 6s 32ms/step - loss: 0.4311 - accuracy: 0.8444 - val_loss: 0.4447 - val_accuracy: 0.8388\n",
            "Epoch 5/8\n",
            "188/188 [==============================] - 6s 34ms/step - loss: 0.4112 - accuracy: 0.8504 - val_loss: 0.4288 - val_accuracy: 0.8443\n",
            "Epoch 6/8\n",
            "188/188 [==============================] - 6s 33ms/step - loss: 0.3970 - accuracy: 0.8562 - val_loss: 0.4188 - val_accuracy: 0.8462\n",
            "Epoch 7/8\n",
            "188/188 [==============================] - 6s 33ms/step - loss: 0.3848 - accuracy: 0.8599 - val_loss: 0.4124 - val_accuracy: 0.8500\n",
            "Epoch 8/8\n",
            "188/188 [==============================] - 6s 33ms/step - loss: 0.3758 - accuracy: 0.8619 - val_loss: 0.4065 - val_accuracy: 0.8505\n"
          ]
        },
        {
          "output_type": "execute_result",
          "data": {
            "text/plain": [
              "<keras.src.callbacks.History at 0x7def31059900>"
            ]
          },
          "metadata": {},
          "execution_count": 17
        }
      ]
    },
    {
      "cell_type": "code",
      "source": [
        "model_wbase.summary()"
      ],
      "metadata": {
        "colab": {
          "base_uri": "https://localhost:8080/"
        },
        "id": "Wk-o07vw7ZXt",
        "outputId": "ede8d2c9-2f35-4f28-a51b-41f76d95b3bc"
      },
      "id": "Wk-o07vw7ZXt",
      "execution_count": 18,
      "outputs": [
        {
          "output_type": "stream",
          "name": "stdout",
          "text": [
            "Model: \"sequential_3\"\n",
            "_________________________________________________________________\n",
            " Layer (type)                Output Shape              Param #   \n",
            "=================================================================\n",
            " vgg16 (Functional)          (None, 1, 1, 512)         14714688  \n",
            "                                                                 \n",
            " flatten_3 (Flatten)         (None, 512)               0         \n",
            "                                                                 \n",
            " dense_6 (Dense)             (None, 64)                32832     \n",
            "                                                                 \n",
            " dense_7 (Dense)             (None, 10)                650       \n",
            "                                                                 \n",
            "=================================================================\n",
            "Total params: 14748170 (56.26 MB)\n",
            "Trainable params: 33482 (130.79 KB)\n",
            "Non-trainable params: 14714688 (56.13 MB)\n",
            "_________________________________________________________________\n"
          ]
        }
      ]
    },
    {
      "cell_type": "code",
      "source": [
        "for i, layer in enumerate(model_wbase.layers):\n",
        "    layer._name = 'layer_' + str(i)\n",
        "\n",
        "\n",
        "conv_base = VGG16(weights='imagenet', include_top=False, input_shape=(32, 32, 3))\n",
        "\n",
        "\n",
        "conv_base.trainable = True\n",
        "set_trainable = False\n",
        "for layer in conv_base.layers:\n",
        "    if layer.name == \"block5_conv1\":\n",
        "        set_trainable = True\n",
        "    if set_trainable:\n",
        "        layer.trainable = True\n",
        "    else:\n",
        "        layer.trainable = False\n",
        "\n",
        "\n",
        "modified_model = models.Sequential([\n",
        "      conv_base,\n",
        "      layers.Flatten(),\n",
        "      layers.Dense(256, activation=\"relu\"),\n",
        "      layers.Dense(10, activation=\"softmax\"),\n",
        "])"
      ],
      "metadata": {
        "id": "g-7kOjbP_Nnq"
      },
      "id": "g-7kOjbP_Nnq",
      "execution_count": 43,
      "outputs": []
    },
    {
      "cell_type": "code",
      "source": [
        "from keras.optimizers import Adam\n",
        "\n",
        "modified_model.compile(\n",
        "    optimizer=Adam(learning_rate=0.0001),\n",
        "    loss='categorical_crossentropy',\n",
        "    metrics=['accuracy'])"
      ],
      "metadata": {
        "id": "-Ry9yNBk_o1P"
      },
      "id": "-Ry9yNBk_o1P",
      "execution_count": 44,
      "outputs": []
    },
    {
      "cell_type": "code",
      "source": [
        "modified_model.fit(\n",
        "    train_images, train_labels, epochs=5, verbose=1, batch_size=128, validation_split=0.2\n",
        ")"
      ],
      "metadata": {
        "colab": {
          "base_uri": "https://localhost:8080/"
        },
        "id": "27t2ryus_1pp",
        "outputId": "f8309111-47bb-4697-f226-bb910277e5c8"
      },
      "id": "27t2ryus_1pp",
      "execution_count": 45,
      "outputs": [
        {
          "output_type": "stream",
          "name": "stdout",
          "text": [
            "Epoch 1/5\n",
            "375/375 [==============================] - 13s 29ms/step - loss: 0.4218 - accuracy: 0.8483 - val_loss: 0.3247 - val_accuracy: 0.8806\n",
            "Epoch 2/5\n",
            "375/375 [==============================] - 11s 30ms/step - loss: 0.2846 - accuracy: 0.8939 - val_loss: 0.2909 - val_accuracy: 0.8953\n",
            "Epoch 3/5\n",
            "375/375 [==============================] - 10s 27ms/step - loss: 0.2432 - accuracy: 0.9099 - val_loss: 0.2675 - val_accuracy: 0.9017\n",
            "Epoch 4/5\n",
            "375/375 [==============================] - 12s 31ms/step - loss: 0.2216 - accuracy: 0.9180 - val_loss: 0.2655 - val_accuracy: 0.9038\n",
            "Epoch 5/5\n",
            "375/375 [==============================] - 12s 31ms/step - loss: 0.1999 - accuracy: 0.9244 - val_loss: 0.2740 - val_accuracy: 0.9000\n"
          ]
        },
        {
          "output_type": "execute_result",
          "data": {
            "text/plain": [
              "<keras.src.callbacks.History at 0x7deeb84cba60>"
            ]
          },
          "metadata": {},
          "execution_count": 45
        }
      ]
    },
    {
      "cell_type": "markdown",
      "source": [
        "# As we see our model based on VGG16 showing better results even on relatively small number of epochs, compared to default convolutional model!"
      ],
      "metadata": {
        "id": "Bc80qQ2aGS3K"
      },
      "id": "Bc80qQ2aGS3K"
    }
  ],
  "metadata": {
    "kernelspec": {
      "display_name": "Python 3",
      "name": "python3"
    },
    "language_info": {
      "codemirror_mode": {
        "name": "ipython",
        "version": 3
      },
      "file_extension": ".py",
      "mimetype": "text/x-python",
      "name": "python",
      "nbconvert_exporter": "python",
      "pygments_lexer": "ipython3",
      "version": "3.10.13"
    },
    "colab": {
      "provenance": [],
      "gpuType": "T4"
    },
    "accelerator": "GPU"
  },
  "nbformat": 4,
  "nbformat_minor": 5
}